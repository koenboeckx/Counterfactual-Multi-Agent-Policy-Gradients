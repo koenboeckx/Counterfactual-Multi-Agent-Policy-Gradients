{
  "nbformat": 4,
  "nbformat_minor": 0,
  "metadata": {
    "colab": {
      "name": "COMA.ipynb",
      "provenance": [],
      "collapsed_sections": [],
      "authorship_tag": "ABX9TyMnq8P7kNM+c5agRpQOBGZj",
      "include_colab_link": true
    },
    "kernelspec": {
      "name": "Python 3.6.6 64-bit ('.venv')",
      "display_name": "Python 3.6.6 64-bit ('.venv')",
      "metadata": {
        "interpreter": {
          "hash": "6adf259ebd05240f0423a2f2f5506737c181ddd7416eb4184b72d2a0f2c0fcbb"
        }
      }
    }
  },
  "cells": [
    {
      "cell_type": "markdown",
      "metadata": {
        "id": "view-in-github",
        "colab_type": "text"
      },
      "source": [
        "<a href=\"https://colab.research.google.com/github/matteokarldonati/Counterfactual-Multi-Agent-Policy-Gradients/blob/master/COMA.ipynb\" target=\"_parent\"><img src=\"https://colab.research.google.com/assets/colab-badge.svg\" alt=\"Open In Colab\"/></a>"
      ]
    },
    {
      "cell_type": "markdown",
      "metadata": {
        "id": "J4JJuzrq6VB8",
        "colab_type": "text"
      },
      "source": [
        "# Counterfactual Multi-Agent Policy Gradients\n"
      ]
    },
    {
      "cell_type": "code",
      "metadata": {
        "id": "nsQXtdHU6Jc2",
        "colab_type": "code",
        "colab": {}
      },
      "source": [
        "!rm -rf /content/ma-gym  \n",
        "!git clone https://github.com/koulanurag/ma-gym.git \n",
        "%cd /content/ma-gym \n",
        "!pip install -q -e . \n",
        "!apt-get install -y xvfb python-opengl x11-utils > /dev/null 2>&1\n",
        "!pip install pyvirtualdisplay > /dev/null 2>&1\n",
        "!apt-get install x11-utils\n",
        "!apt-get update > /dev/null 2>&1\n",
        "!apt-get install cmake > /dev/null 2>&1\n",
        "!pip install --upgrade setuptools 2>&1\n",
        "!pip install ez_setup > /dev/null 2>&1\n",
        "!pip install -U gym[atari] > /dev/null 2>&1"
      ],
      "execution_count": 1,
      "outputs": [
        {
          "output_type": "stream",
          "name": "stdout",
          "text": [
            "fatal: destination path 'ma-gym' already exists and is not an empty directory.\n",
            "[Errno 2] No such file or directory: '/content/ma-gym'\n",
            "/home/koen/Programming/Counterfactual-Multi-Agent-Policy-Gradients\n",
            "\u001b[31mERROR: File \"setup.py\" not found. Directory cannot be installed in editable mode: /home/koen/Programming/Counterfactual-Multi-Agent-Policy-Gradients\u001b[0m\n",
            "E: Could not open lock file /var/lib/dpkg/lock-frontend - open (13: Permission denied)\n",
            "E: Unable to acquire the dpkg frontend lock (/var/lib/dpkg/lock-frontend), are you root?\n",
            "Requirement already up-to-date: setuptools in ./.venv/lib/python3.6/site-packages (50.3.2)\n"
          ]
        }
      ]
    },
    {
      "cell_type": "code",
      "metadata": {
        "id": "cvdZvb-V6d63",
        "colab_type": "code",
        "colab": {}
      },
      "source": [
        "%matplotlib inline\n",
        "import gym\n",
        "import ma_gym\n",
        "from ma_gym.wrappers import Monitor\n",
        "import matplotlib.pyplot as plt\n",
        "import glob\n",
        "import io\n",
        "import base64\n",
        "from IPython.display import HTML\n",
        "from IPython import display as ipythondisplay\n",
        "\n",
        "from pyvirtualdisplay import Display\n",
        "display = Display(visible=0, size=(1400, 900))\n",
        "display.start()\n",
        "\n",
        "\"\"\"\n",
        "Utility functions to enable video recording of gym environment and displaying it\n",
        "To enable video, just do \"env = wrap_env(env)\"\"\n",
        "\"\"\"\n",
        "\n",
        "def show_video():\n",
        "  mp4list = glob.glob('video/*.mp4')\n",
        "  if len(mp4list) > 0:\n",
        "    mp4 = mp4list[0]\n",
        "    video = io.open(mp4, 'r+b').read()\n",
        "    encoded = base64.b64encode(video)\n",
        "    ipythondisplay.display(HTML(data='''<video alt=\"test\" autoplay \n",
        "                loop controls style=\"height: 400px;\">\n",
        "                <source src=\"data:video/mp4;base64,{0}\" type=\"video/mp4\" />\n",
        "             </video>'''.format(encoded.decode('ascii'))))\n",
        "  else: \n",
        "    print(\"Could not find video\")\n",
        "    \n",
        "\n",
        "def wrap_env(env):\n",
        "  env = Monitor(env, './video', force=True)\n",
        "  return env"
      ],
      "execution_count": 8,
      "outputs": []
    },
    {
      "cell_type": "markdown",
      "metadata": {
        "id": "LtwTqkYryxf6",
        "colab_type": "text"
      },
      "source": [
        "## COMA"
      ]
    },
    {
      "cell_type": "code",
      "metadata": {
        "id": "JKEjGWzi62zO",
        "colab_type": "code",
        "colab": {}
      },
      "source": [
        "import torch\n",
        "import torch.nn as nn\n",
        "import torch.nn.functional as F\n",
        "\n",
        "from torch.distributions import Categorical"
      ],
      "execution_count": 9,
      "outputs": []
    },
    {
      "cell_type": "code",
      "metadata": {
        "id": "W_RvwMp_BX80",
        "colab_type": "code",
        "colab": {}
      },
      "source": [
        "class Memory:\n",
        "    def __init__(self, agent_num, action_dim):\n",
        "        self.agent_num = agent_num\n",
        "        self.action_dim = action_dim\n",
        "\n",
        "        self.actions = []\n",
        "        self.observations = []\n",
        "        self.pi = [[] for _ in range(agent_num)]\n",
        "        self.reward = []\n",
        "        self.done = [[] for _ in range(agent_num)]\n",
        "\n",
        "    def get(self):\n",
        "        actions = torch.tensor(self.actions)\n",
        "        observations = self.observations\n",
        "\n",
        "        pi = []\n",
        "        for i in range(self.agent_num):\n",
        "          pi.append(torch.cat(self.pi[i]).view(len(self.pi[i]), self.action_dim))\n",
        "\n",
        "        reward = torch.tensor(self.reward)\n",
        "        done = self.done\n",
        "\n",
        "        return actions, observations, pi, reward, done\n",
        "    \n",
        "    def clear(self):\n",
        "        self.actions = []\n",
        "        self.observations = []\n",
        "        self.pi = [[] for _ in range(agent_num)]\n",
        "        self.reward = []\n",
        "        self.done = [[] for _ in range(agent_num)]"
      ],
      "execution_count": 10,
      "outputs": []
    },
    {
      "cell_type": "code",
      "metadata": {
        "id": "EUFrp-0L2aBH",
        "colab_type": "code",
        "colab": {}
      },
      "source": [
        "class Actor(nn.Module):\n",
        "    def __init__(self, state_dim, action_dim):\n",
        "        super(Actor, self).__init__()\n",
        "\n",
        "        self.fc1 = nn.Linear(state_dim, 64)\n",
        "        self.fc2 = nn.Linear(64, 64)\n",
        "        self.fc3 = nn.Linear(64, action_dim)\n",
        "\n",
        "    def forward(self, x):\n",
        "        x = F.relu(self.fc1(x))\n",
        "        x = F.relu(self.fc2(x))\n",
        "        return F.softmax(self.fc3(x), dim=-1)"
      ],
      "execution_count": 11,
      "outputs": []
    },
    {
      "cell_type": "code",
      "metadata": {
        "id": "E2UmozpM2QuF",
        "colab_type": "code",
        "colab": {}
      },
      "source": [
        "class Critic(nn.Module):\n",
        "    def __init__(self, agent_num, state_dim, action_dim):\n",
        "        super(Critic, self).__init__()\n",
        "\n",
        "        input_dim = 1 + state_dim * agent_num + agent_num\n",
        "\n",
        "        self.fc1 = nn.Linear(input_dim, 64)\n",
        "        self.fc2 = nn.Linear(64, 64)\n",
        "        self.fc3 = nn.Linear(64, action_dim)\n",
        "\n",
        "    def forward(self, x):\n",
        "        x = F.relu(self.fc1(x))\n",
        "        x = F.relu(self.fc2(x))\n",
        "        return self.fc3(x)"
      ],
      "execution_count": 12,
      "outputs": []
    },
    {
      "cell_type": "code",
      "metadata": {
        "id": "G7E0D8Dc2aXh",
        "colab_type": "code",
        "colab": {}
      },
      "source": [
        "class COMA:\n",
        "    def __init__(self, agent_num, state_dim, action_dim, lr_c, lr_a, gamma, target_update_steps):\n",
        "        self.agent_num = agent_num\n",
        "        self.state_dim = state_dim\n",
        "        self.action_dim = action_dim\n",
        "\n",
        "        self.gamma = gamma\n",
        "\n",
        "        self.target_update_steps = target_update_steps\n",
        "\n",
        "        self.memory = Memory(agent_num, action_dim)\n",
        "\n",
        "        self.actors = [Actor(state_dim, action_dim) for _ in range(agent_num)]\n",
        "        self.critic = Critic(agent_num, state_dim, action_dim)\n",
        "\n",
        "        self.critic_target = Critic(agent_num, state_dim, action_dim)\n",
        "        self.critic_target.load_state_dict(self.critic.state_dict())\n",
        "\n",
        "        self.actors_optimizer = [torch.optim.Adam(self.actors[i].parameters(), lr=lr_a) for i in range(agent_num)]\n",
        "        self.critic_optimizer = torch.optim.Adam(self.critic.parameters(), lr=lr_c)\n",
        "\n",
        "        self.count = 0\n",
        "\n",
        "    def get_actions(self, observations):\n",
        "        observations = torch.tensor(observations)\n",
        "\n",
        "        actions = []\n",
        "\n",
        "        for i in range(self.agent_num):\n",
        "            dist = self.actors[i](observations[i])\n",
        "            action = Categorical(dist).sample()\n",
        "\n",
        "            self.memory.pi[i].append(dist)\n",
        "            actions.append(action.item())\n",
        "\n",
        "        self.memory.observations.append(observations)\n",
        "        self.memory.actions.append(actions)\n",
        "\n",
        "        return actions\n",
        "\n",
        "    def train(self):\n",
        "        actor_optimizer = self.actors_optimizer\n",
        "        critic_optimizer = self.critic_optimizer\n",
        "\n",
        "        actions, observations, pi, reward, done = self.memory.get()\n",
        "\n",
        "        for i in range(self.agent_num):\n",
        "            # train actor\n",
        "\n",
        "            input_critic = self.build_input_critic(i, observations, actions)\n",
        "            Q_target = self.critic_target(input_critic).detach()\n",
        "\n",
        "            action_taken = actions.type(torch.long)[:, i].reshape(-1, 1)\n",
        "\n",
        "            baseline = torch.sum(pi[i] * Q_target, dim=1).detach()\n",
        "            Q_taken_target = torch.gather(Q_target, dim=1, index=action_taken).squeeze()\n",
        "            advantage = Q_taken_target - baseline\n",
        "\n",
        "            log_pi = torch.log(torch.gather(pi[i], dim=1, index=action_taken).squeeze())\n",
        "\n",
        "            actor_loss = - torch.mean(advantage * log_pi)\n",
        "\n",
        "            actor_optimizer[i].zero_grad()\n",
        "            actor_loss.backward()\n",
        "            torch.nn.utils.clip_grad_norm_(self.actors[i].parameters(), 5)\n",
        "            actor_optimizer[i].step()\n",
        "\n",
        "            # train critic\n",
        "\n",
        "            Q = self.critic(input_critic)\n",
        "\n",
        "            action_taken = actions.type(torch.long)[:, i].reshape(-1, 1)\n",
        "            Q_taken = torch.gather(Q, dim=1, index=action_taken).squeeze()\n",
        "\n",
        "            # TD(0)\n",
        "            r = torch.zeros(len(reward[:, i]))\n",
        "            for t in range(len(reward[:, i])):\n",
        "                if done[i][t]:\n",
        "                    r[t] = reward[:, i][t]\n",
        "                else:\n",
        "                    r[t] = reward[:, i][t] + self.gamma * Q_taken_target[t + 1]\n",
        "\n",
        "            critic_loss = torch.mean((r - Q_taken) ** 2)\n",
        "\n",
        "            critic_optimizer.zero_grad()\n",
        "            critic_loss.backward()\n",
        "            torch.nn.utils.clip_grad_norm_(self.critic.parameters(), 5)\n",
        "            critic_optimizer.step()\n",
        "\n",
        "        if self.count == self.target_update_steps:\n",
        "            self.critic_target.load_state_dict(agents.critic.state_dict())\n",
        "            self.count = 0\n",
        "        else:\n",
        "            self.count += 1\n",
        "\n",
        "        self.memory.clear()\n",
        "\n",
        "    def build_input_critic(self, agent_id, observations, actions):\n",
        "        batch_size = len(observations)\n",
        "\n",
        "        ids = (torch.ones(batch_size) * agent_id).view(-1, 1)\n",
        "\n",
        "        observations = torch.cat(observations).view(batch_size, self.state_dim * self.agent_num)\n",
        "        input_critic = torch.cat([observations.type(torch.float32), actions.type(torch.float32)], dim=-1)\n",
        "        input_critic = torch.cat([ids, input_critic], dim=-1)\n",
        "\n",
        "        return input_critic"
      ],
      "execution_count": 13,
      "outputs": []
    },
    {
      "cell_type": "markdown",
      "metadata": {
        "id": "fmZS1ApxzR5I",
        "colab_type": "text"
      },
      "source": [
        "## Training Loop"
      ]
    },
    {
      "cell_type": "code",
      "metadata": {
        "id": "fa3OKZkr7cz_",
        "colab_type": "code",
        "colab": {}
      },
      "source": [
        "import matplotlib.pyplot as plt\n",
        "import numpy as np"
      ],
      "execution_count": 14,
      "outputs": []
    },
    {
      "cell_type": "code",
      "metadata": {
        "id": "0-amt18t7dbi",
        "colab_type": "code",
        "colab": {}
      },
      "source": [
        "def moving_average(x, N):\n",
        "    return np.convolve(x, np.ones((N,)) / N, mode='valid')"
      ],
      "execution_count": 15,
      "outputs": []
    },
    {
      "cell_type": "code",
      "metadata": {
        "colab_type": "code",
        "id": "SdgAqIvNz7v7",
        "colab": {}
      },
      "source": [
        "agent_num = 2\n",
        "\n",
        "state_dim = 2\n",
        "action_dim = 5\n",
        "\n",
        "gamma = 0.99\n",
        "lr_a = 0.0001\n",
        "lr_c = 0.005\n",
        "\n",
        "target_update_steps = 10"
      ],
      "execution_count": 16,
      "outputs": []
    },
    {
      "cell_type": "code",
      "metadata": {
        "id": "FXadRZe40HD2",
        "colab_type": "code",
        "colab": {}
      },
      "source": [
        "agents = COMA(agent_num, state_dim, action_dim, lr_c, lr_a, gamma, target_update_steps)"
      ],
      "execution_count": 17,
      "outputs": []
    },
    {
      "cell_type": "code",
      "metadata": {
        "id": "nLIKCIFlzFsF",
        "colab_type": "code",
        "colab": {}
      },
      "source": [
        "env = wrap_env(gym.make(\"Switch2-v0\"))\n",
        "obs = env.reset()\n",
        "\n",
        "episode_reward = 0\n",
        "episodes_reward = []"
      ],
      "execution_count": 20,
      "outputs": []
    },
    {
      "cell_type": "markdown",
      "metadata": {},
      "source": [
        "## ma-gym - `Switch2-v0`\n",
        "\n",
        "A grid world environment having `n` agents where each agent wants to move their corresponding home location ( marked in boxes outlined in same colors). The challenging part of the game is to pass through the narrow corridor through which only one agent can pass at a time. They need to coordinate to not block the pathway for the other. A reward of +5 is given to each agent for reaching their home cell. The episode ends when both agents has reached their home state or for a maximum of 100 steps in environment.\n",
        "\n",
        "* Action space: `0: Down, 1: Left, 2: Up, 3: Right, 4: Noop`\n",
        "* Agent observation: `Agent coordinate + steps in env.`\n",
        "* Reference paper: [Value-Decomposition Networks For Cooperative Multi-Agent Learning ( Section 4.2)](https://arxiv.org/abs/1706.05296)\n",
        "\n",
        "![Switch2-v0](Switch2-v0.gif)\n"
      ]
    },
    {
      "cell_type": "code",
      "metadata": {
        "id": "_f4yIJ4XzVeV",
        "colab_type": "code",
        "outputId": "f88a605b-7a9e-40ed-817e-a2287bdef814",
        "colab": {
          "base_uri": "https://localhost:8080/",
          "height": 1000
        }
      },
      "source": [
        "n_episodes = 10000\n",
        "episode = 0\n",
        "\n",
        "while episode < n_episodes:\n",
        "  actions = agents.get_actions(obs)\n",
        "  next_obs, reward, done_n, _ = env.step(actions)\n",
        "\n",
        "  agents.memory.reward.append(reward)\n",
        "  for i in range(agent_num):\n",
        "      agents.memory.done[i].append(done_n[i])\n",
        "\n",
        "  episode_reward += sum(reward)\n",
        "\n",
        "  obs = next_obs\n",
        "\n",
        "  if all(done_n):\n",
        "      episodes_reward.append(episode_reward)\n",
        "      episode_reward = 0\n",
        "\n",
        "      episode += 1\n",
        "\n",
        "      obs = env.reset()\n",
        "\n",
        "      if episode % 10 == 0:\n",
        "          agents.train()\n",
        "\n",
        "      if episode % 100 == 0:\n",
        "          print(f\"episode: {episode}, average reward: {sum(episodes_reward[-100:]) / 100}\")"
      ],
      "execution_count": 21,
      "outputs": [
        {
          "output_type": "stream",
          "name": "stdout",
          "text": [
            "episode: 100, average reward: -9.281999999999998\n",
            "episode: 200, average reward: -9.245999999999999\n",
            "episode: 300, average reward: -9.457999999999998\n",
            "episode: 400, average reward: -9.489999999999997\n",
            "episode: 500, average reward: -9.387999999999998\n",
            "episode: 600, average reward: -9.591999999999999\n",
            "episode: 700, average reward: -9.234999999999996\n",
            "episode: 800, average reward: -9.183999999999996\n",
            "episode: 900, average reward: -9.336999999999998\n",
            "episode: 1000, average reward: -9.426999999999998\n",
            "episode: 1100, average reward: -9.149999999999997\n",
            "episode: 1200, average reward: -9.030999999999997\n",
            "episode: 1300, average reward: -9.336999999999998\n",
            "episode: 1400, average reward: -9.231\n",
            "episode: 1500, average reward: -9.081999999999995\n",
            "episode: 1600, average reward: -8.924999999999997\n",
            "episode: 1700, average reward: -8.451999999999996\n",
            "episode: 1800, average reward: -8.527999999999997\n",
            "episode: 1900, average reward: -7.750999999999996\n",
            "episode: 2000, average reward: -7.945999999999994\n",
            "episode: 2100, average reward: -7.513999999999994\n",
            "episode: 2200, average reward: -7.959999999999995\n",
            "episode: 2300, average reward: -7.888999999999995\n",
            "episode: 2400, average reward: -7.066999999999995\n",
            "episode: 2500, average reward: -7.270999999999994\n",
            "episode: 2600, average reward: -7.680999999999995\n",
            "episode: 2700, average reward: -8.163999999999993\n",
            "episode: 2800, average reward: -7.241999999999993\n",
            "episode: 2900, average reward: -7.544999999999993\n",
            "episode: 3000, average reward: -7.755999999999995\n",
            "episode: 3100, average reward: -7.6539999999999955\n",
            "episode: 3200, average reward: -8.061999999999994\n",
            "episode: 3300, average reward: -7.755999999999995\n",
            "episode: 3400, average reward: -8.010999999999996\n",
            "episode: 3500, average reward: -7.602999999999995\n",
            "episode: 3600, average reward: -8.163999999999994\n",
            "episode: 3700, average reward: -8.775999999999996\n",
            "episode: 3800, average reward: -8.367999999999995\n",
            "episode: 3900, average reward: -8.520999999999994\n",
            "episode: 4000, average reward: -8.163999999999994\n",
            "episode: 4100, average reward: -8.775999999999996\n",
            "episode: 4200, average reward: -8.571999999999996\n",
            "episode: 4300, average reward: -8.673999999999996\n",
            "episode: 4400, average reward: -8.214999999999996\n",
            "episode: 4500, average reward: -8.673999999999996\n",
            "episode: 4600, average reward: -8.571999999999996\n",
            "episode: 4700, average reward: -8.316999999999995\n",
            "episode: 4800, average reward: -8.418999999999995\n",
            "episode: 4900, average reward: -8.367999999999995\n",
            "episode: 5000, average reward: -8.367999999999995\n",
            "episode: 5100, average reward: -8.316999999999995\n",
            "episode: 5200, average reward: -8.826999999999996\n",
            "episode: 5300, average reward: -8.418999999999997\n",
            "episode: 5400, average reward: -8.163999999999994\n",
            "episode: 5500, average reward: -8.622999999999996\n",
            "episode: 5600, average reward: -8.112999999999996\n",
            "episode: 5700, average reward: -8.265999999999995\n",
            "episode: 5800, average reward: -8.010999999999994\n",
            "episode: 5900, average reward: -7.653999999999993\n",
            "episode: 6000, average reward: -7.6029999999999935\n",
            "episode: 6100, average reward: -7.857999999999993\n",
            "episode: 6200, average reward: -7.551999999999993\n",
            "episode: 6300, average reward: -7.806999999999993\n",
            "episode: 6400, average reward: -7.9089999999999945\n",
            "episode: 6500, average reward: -7.8579999999999925\n",
            "episode: 6600, average reward: -7.296999999999993\n",
            "episode: 6700, average reward: -6.888999999999994\n",
            "episode: 6800, average reward: -7.194999999999993\n",
            "episode: 6900, average reward: -6.378999999999992\n",
            "episode: 7000, average reward: -6.327999999999992\n",
            "episode: 7100, average reward: -6.378999999999992\n",
            "episode: 7200, average reward: -6.174999999999992\n",
            "episode: 7300, average reward: -6.378999999999992\n",
            "episode: 7400, average reward: -5.868999999999992\n",
            "episode: 7500, average reward: -6.0729999999999915\n",
            "episode: 7600, average reward: -5.613999999999991\n",
            "episode: 7700, average reward: -5.715999999999992\n",
            "episode: 7800, average reward: -5.613999999999991\n",
            "episode: 7900, average reward: -5.51199999999999\n",
            "episode: 8000, average reward: -5.7669999999999915\n",
            "episode: 8100, average reward: -5.664999999999992\n",
            "episode: 8200, average reward: -5.715999999999991\n",
            "episode: 8300, average reward: -5.817999999999992\n",
            "episode: 8400, average reward: -5.919999999999991\n",
            "episode: 8500, average reward: -5.97099999999999\n",
            "episode: 8600, average reward: -5.970999999999991\n",
            "episode: 8700, average reward: -6.123999999999992\n",
            "episode: 8800, average reward: -6.021999999999991\n",
            "episode: 8900, average reward: -6.174999999999992\n",
            "episode: 9000, average reward: -6.174999999999991\n",
            "episode: 9100, average reward: -6.0729999999999915\n",
            "episode: 9200, average reward: -6.480999999999992\n",
            "episode: 9300, average reward: -6.174999999999994\n",
            "episode: 9400, average reward: -6.429999999999992\n",
            "episode: 9500, average reward: -6.429999999999992\n",
            "episode: 9600, average reward: -6.888999999999993\n",
            "episode: 9700, average reward: -7.092999999999994\n",
            "episode: 9800, average reward: -7.194999999999993\n",
            "episode: 9900, average reward: -7.092999999999993\n",
            "episode: 10000, average reward: -7.245999999999994\n"
          ]
        }
      ]
    },
    {
      "cell_type": "code",
      "metadata": {
        "id": "mKi6Oy4lk8eG",
        "colab_type": "code",
        "outputId": "d5b90b1b-8a2c-4b49-ec73-8c38b2c24fee",
        "colab": {
          "base_uri": "https://localhost:8080/",
          "height": 295
        }
      },
      "source": [
        "plt.plot(moving_average(episodes_reward, 100))\n",
        "plt.title('Learning curve')\n",
        "plt.xlabel(\"Episodes\")\n",
        "plt.ylabel(\"Reward\")\n",
        "plt.show()"
      ],
      "execution_count": 0,
      "outputs": [
        {
          "output_type": "display_data",
          "data": {
            "image/png": "[encoded data removed]",
            "text/plain": [
              "<Figure size 432x288 with 1 Axes>"
            ]
          },
          "metadata": {
            "tags": []
          }
        }
      ]
    },
    {
      "cell_type": "code",
      "metadata": {
        "id": "zi0gb9VuXEC1",
        "colab_type": "code",
        "outputId": "bb35b93c-802c-448b-9cdb-fc01e1baab16",
        "colab": {
          "base_uri": "https://localhost:8080/",
          "height": 438
        }
      },
      "source": [
        "env = wrap_env(gym.make(\"Switch2-v0\"))\n",
        "obs_n = env.reset()\n",
        "reward = 0\n",
        "\n",
        "while True:\n",
        "  obs_n, reward_n, done_n, info = env.step(agents.get_actions(obs_n))\n",
        "\n",
        "  reward += sum(reward_n)\n",
        "\n",
        "  env.render()\n",
        "\n",
        "  if all(done_n):\n",
        "    agents.memory.clear()\n",
        "    break\n",
        "\n",
        "env.close()\n",
        "show_video()\n",
        "print(reward)"
      ],
      "execution_count": 0,
      "outputs": [
        {
          "output_type": "display_data",
          "data": {
            "text/html": [
              "<video alt=\"test\" autoplay \n",
              "                loop controls style=\"height: 400px;\">\n",
              "                <source src=\"data:video/mp4;base64,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\" type=\"video/mp4\" />\n",
              "             </video>"
            ],
            "text/plain": [
              "<IPython.core.display.HTML object>"
            ]
          },
          "metadata": {
            "tags": []
          }
        },
        {
          "output_type": "stream",
          "text": [
            "3.8000000000000007\n"
          ],
          "name": "stdout"
        }
      ]
    }
  ]
}